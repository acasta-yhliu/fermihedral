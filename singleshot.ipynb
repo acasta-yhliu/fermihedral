{
 "cells": [
  {
   "cell_type": "markdown",
   "metadata": {},
   "source": [
    "## Fermihedral: On the Optimal Compilation for Fermion-to-Qubit Encoding\n",
    "\n",
    "Please make sure your are using the virtual environment, and `kissat` is built. If not, run `python3 prepare.py` to prepare the environment and packages."
   ]
  },
  {
   "cell_type": "code",
   "execution_count": 1,
   "metadata": {},
   "outputs": [],
   "source": [
    "%matplotlib inline\n",
    "\n",
    "from math import log2\n",
    "import matplotlib.pyplot as plt\n",
    "from scipy.stats import linregress\n",
    "import numpy as np\n",
    "\n",
    "plt.style.use('classic')\n",
    "plt.rc(\"font\", size=28, family=\"serif\")"
   ]
  },
  {
   "cell_type": "markdown",
   "metadata": {},
   "source": [
    "#### Experiment: Probability of $n$ $A_k$'s holds simultaneously\n",
    "\n",
    "Note: this step may take extremely long time."
   ]
  },
  {
   "cell_type": "code",
   "execution_count": 2,
   "metadata": {},
   "outputs": [
    {
     "name": "stdout",
     "output_type": "stream",
     "text": [
      "> model summary: 1 modes, independence = False, vacuum state = False\n"
     ]
    },
    {
     "name": "stderr",
     "output_type": "stream",
     "text": [
      "100%|██████████| 1/1 [00:00<00:00, 1067.25it/s]\n"
     ]
    },
    {
     "name": "stdout",
     "output_type": "stream",
     "text": [
      "> solving solutions for 1 modes\n",
      "  checking algebraic independence for 6 solutions                                                          \n"
     ]
    },
    {
     "name": "stderr",
     "output_type": "stream",
     "text": [
      "100%|██████████| 6/6 [00:00<00:00, 38362.54it/s]\n"
     ]
    },
    {
     "name": "stdout",
     "output_type": "stream",
     "text": [
      "> model summary: 2 modes, independence = False, vacuum state = False\n"
     ]
    },
    {
     "name": "stderr",
     "output_type": "stream",
     "text": [
      "100%|██████████| 6/6 [00:00<00:00, 933.52it/s]"
     ]
    },
    {
     "name": "stdout",
     "output_type": "stream",
     "text": [
      "> solving solutions for 2 modes\n",
      "found 44/100 solutions for 2 modes"
     ]
    },
    {
     "name": "stderr",
     "output_type": "stream",
     "text": [
      "\n"
     ]
    },
    {
     "name": "stdout",
     "output_type": "stream",
     "text": [
      "  checking algebraic independence for 100 solutions                                                        \n"
     ]
    },
    {
     "name": "stderr",
     "output_type": "stream",
     "text": [
      "100%|██████████| 100/100 [00:00<00:00, 35572.08it/s]\n"
     ]
    },
    {
     "name": "stdout",
     "output_type": "stream",
     "text": [
      "> model summary: 3 modes, independence = False, vacuum state = False\n"
     ]
    },
    {
     "name": "stderr",
     "output_type": "stream",
     "text": [
      "100%|██████████| 15/15 [00:00<00:00, 672.41it/s]"
     ]
    },
    {
     "name": "stdout",
     "output_type": "stream",
     "text": [
      "> solving solutions for 3 modes\n",
      "found 17/100 solutions for 3 modes"
     ]
    },
    {
     "name": "stderr",
     "output_type": "stream",
     "text": [
      "\n"
     ]
    },
    {
     "name": "stdout",
     "output_type": "stream",
     "text": [
      "  checking algebraic independence for 100 solutions                                                        \n"
     ]
    },
    {
     "name": "stderr",
     "output_type": "stream",
     "text": [
      "100%|██████████| 100/100 [00:00<00:00, 2825.30it/s]\n"
     ]
    },
    {
     "name": "stdout",
     "output_type": "stream",
     "text": [
      "> model summary: 4 modes, independence = False, vacuum state = False\n"
     ]
    },
    {
     "name": "stderr",
     "output_type": "stream",
     "text": [
      "100%|██████████| 28/28 [00:00<00:00, 477.21it/s]"
     ]
    },
    {
     "name": "stdout",
     "output_type": "stream",
     "text": [
      "> solving solutions for 4 modes\n"
     ]
    },
    {
     "name": "stderr",
     "output_type": "stream",
     "text": [
      "\n"
     ]
    },
    {
     "name": "stdout",
     "output_type": "stream",
     "text": [
      "  checking algebraic independence for 100 solutions                                                        \n"
     ]
    },
    {
     "name": "stderr",
     "output_type": "stream",
     "text": [
      "100%|██████████| 100/100 [00:00<00:00, 459.53it/s]\n"
     ]
    },
    {
     "name": "stdout",
     "output_type": "stream",
     "text": [
      "> model summary: 5 modes, independence = False, vacuum state = False\n"
     ]
    },
    {
     "name": "stderr",
     "output_type": "stream",
     "text": [
      "100%|██████████| 45/45 [00:00<00:00, 410.71it/s]\n"
     ]
    },
    {
     "name": "stdout",
     "output_type": "stream",
     "text": [
      "> solving solutions for 5 modes\n",
      "  checking algebraic independence for 100 solutions                                                        \n"
     ]
    },
    {
     "name": "stderr",
     "output_type": "stream",
     "text": [
      "100%|██████████| 100/100 [00:01<00:00, 73.97it/s]\n"
     ]
    },
    {
     "name": "stdout",
     "output_type": "stream",
     "text": [
      "> model summary: 6 modes, independence = False, vacuum state = False\n"
     ]
    },
    {
     "name": "stderr",
     "output_type": "stream",
     "text": [
      "100%|██████████| 66/66 [00:00<00:00, 340.23it/s]\n"
     ]
    },
    {
     "name": "stdout",
     "output_type": "stream",
     "text": [
      "> solving solutions for 6 modes\n",
      "  checking algebraic independence for 100 solutions                                                        \n"
     ]
    },
    {
     "name": "stderr",
     "output_type": "stream",
     "text": [
      "100%|██████████| 100/100 [00:08<00:00, 11.55it/s]\n"
     ]
    },
    {
     "name": "stdout",
     "output_type": "stream",
     "text": [
      "> model summary: 7 modes, independence = False, vacuum state = False\n"
     ]
    },
    {
     "name": "stderr",
     "output_type": "stream",
     "text": [
      "100%|██████████| 91/91 [00:00<00:00, 291.82it/s]\n"
     ]
    },
    {
     "name": "stdout",
     "output_type": "stream",
     "text": [
      "> solving solutions for 7 modes\n",
      "  checking algebraic independence for 100 solutions                                                        \n"
     ]
    },
    {
     "name": "stderr",
     "output_type": "stream",
     "text": [
      "100%|██████████| 100/100 [00:56<00:00,  1.77it/s]\n"
     ]
    },
    {
     "name": "stdout",
     "output_type": "stream",
     "text": [
      "> model summary: 8 modes, independence = False, vacuum state = False\n"
     ]
    },
    {
     "name": "stderr",
     "output_type": "stream",
     "text": [
      "100%|██████████| 120/120 [00:00<00:00, 253.79it/s]\n"
     ]
    },
    {
     "name": "stdout",
     "output_type": "stream",
     "text": [
      "> solving solutions for 8 modes\n",
      "  checking algebraic independence for 100 solutions                                                        \n"
     ]
    },
    {
     "name": "stderr",
     "output_type": "stream",
     "text": [
      "100%|██████████| 100/100 [06:19<00:00,  3.80s/it]\n"
     ]
    },
    {
     "name": "stdout",
     "output_type": "stream",
     "text": [
      "> model summary: 9 modes, independence = False, vacuum state = False\n"
     ]
    },
    {
     "name": "stderr",
     "output_type": "stream",
     "text": [
      "100%|██████████| 153/153 [00:00<00:00, 225.31it/s]\n"
     ]
    },
    {
     "name": "stdout",
     "output_type": "stream",
     "text": [
      "> solving solutions for 9 modes\n",
      "  checking algebraic independence for 100 solutions                                                        \n"
     ]
    },
    {
     "name": "stderr",
     "output_type": "stream",
     "text": [
      "100%|██████████| 100/100 [41:52<00:00, 25.13s/it]\n"
     ]
    }
   ],
   "source": [
    "from fermihedral import MajoranaModel\n",
    "from fermihedral.pauli import check_algebraic_independent\n",
    "from fermihedral.satutil import Kissat\n",
    "from tqdm import tqdm\n",
    "\n",
    "n_modes_list = [1,2,3,4,5,6,7,8,9]\n",
    "weight_list = [2,6,11,16,22,29,36,43,51]\n",
    "\n",
    "assert len(n_modes_list) == len(weight_list)\n",
    "\n",
    "with open(\"data/distribution.csv\", \"w+\") as csv:\n",
    "    for n_mode, weight in zip(n_modes_list, weight_list):\n",
    "        model = MajoranaModel(n_mode, False)\n",
    "        model.restrict_weight(weight, relationship=\"<=\")\n",
    "\n",
    "        print(f\"> solving solutions for {n_mode} modes\")\n",
    "        solutions = model.solve_forall(100, progess=True,\n",
    "                                       solver_init=Kissat, solver_args=[30*60, True])\n",
    "\n",
    "        TAIL = 5\n",
    "\n",
    "        print(\n",
    "            f\"  checking algebraic independence for {len(solutions)} solutions\")\n",
    "        ndep = 0\n",
    "        dists = [[] for _ in range(TAIL)]\n",
    "        for solution in tqdm(solutions):\n",
    "            dep, _dists = check_algebraic_independent(solution, TAIL)\n",
    "            if dep:\n",
    "                ndep += 1\n",
    "            for id, dist in enumerate(dists):\n",
    "                dist.append(_dists[id])\n",
    "        probability = ndep / len(solutions)\n",
    "        dists = map(lambda x: 0 if len(x) == 0 else sum(x) / len(x), dists)\n",
    "        print(n_mode, probability, *dists, file=csv)"
   ]
  },
  {
   "cell_type": "code",
   "execution_count": 3,
   "metadata": {},
   "outputs": [
    {
     "data": {
      "text/plain": [
       "<Figure size 640x480 with 0 Axes>"
      ]
     },
     "metadata": {},
     "output_type": "display_data"
    },
    {
     "data": {
      "image/png": "[encoded data removed]",
      "text/plain": [
       "<Figure size 640x480 with 1 Axes>"
      ]
     },
     "metadata": {},
     "output_type": "display_data"
    }
   ],
   "source": [
    "# plot\n",
    "\n",
    "nmodes = []\n",
    "total_deps_prob = []\n",
    "ndeps_prob = []\n",
    "\n",
    "with open(\"data/distribution.csv\") as log:\n",
    "    for line in log.readlines():\n",
    "        line = line.strip()\n",
    "        if len(line) == 0:\n",
    "            continue\n",
    "\n",
    "        nmodes_, deps_, *probs_ = map(float, line.split(' '))\n",
    "        nmodes.append(nmodes_)\n",
    "        total_deps_prob.append(deps_)\n",
    "        ndeps_prob.append(probs_)\n",
    "\n",
    "plt.clf()\n",
    "plt.figure(figsize=(8, 6))\n",
    "plt.subplots_adjust(left=0.2, right=0.95, top=0.95, bottom=0.15)\n",
    "for n, data in enumerate(zip(*ndeps_prob)):\n",
    "    n = n + 1\n",
    "    plt_color = (0.1, 0.8 - n / (len(ndeps_prob[0]) + 5), 0.1)\n",
    "\n",
    "    def filter_indices(predicate, iterable):\n",
    "        datas = []\n",
    "        indices = []\n",
    "        for id, item in enumerate(iterable):\n",
    "            if predicate(item):\n",
    "                datas.append(item)\n",
    "                indices.append(id)\n",
    "        return datas, indices\n",
    "\n",
    "    def slice_out(iterable, indices):\n",
    "        data = []\n",
    "        for id in indices:\n",
    "            data.append(iterable[id])\n",
    "        return data\n",
    "\n",
    "    data, indices = filter_indices(lambda x: x > 0, data)\n",
    "\n",
    "    plt.plot(slice_out(nmodes, indices), data, marker=\"x\", markerfacecolor='none', color=plt_color,\n",
    "             markersize=12, linewidth=2, markeredgewidth=2)\n",
    "    plt.plot(nmodes, [0.25 ** n for _ in range(len(nmodes))],\n",
    "             color=plt_color, linestyle='--', linewidth=1.5)\n",
    "    plt.annotate(\n",
    "        f\"$n={n}$\", (9.7, data[-1] * 1.19), fontsize=32, color=plt_color)\n",
    "plt.grid()\n",
    "plt.yscale('log')\n",
    "plt.xlabel(\"Modes/n\")\n",
    "plt.ylabel(\"Probability\")\n",
    "plt.show()"
   ]
  },
  {
   "cell_type": "markdown",
   "metadata": {},
   "source": [
    "#### Experiment: Average Pauli weight per-Majorana operator (small scale)"
   ]
  },
  {
   "cell_type": "code",
   "execution_count": 2,
   "metadata": {},
   "outputs": [
    {
     "name": "stdout",
     "output_type": "stream",
     "text": [
      "> model summary: 1 modes, independence = True, vacuum state = False\n"
     ]
    },
    {
     "name": "stderr",
     "output_type": "stream",
     "text": [
      "0it [00:00, ?it/s]\n",
      "100%|██████████| 1/1 [00:00<00:00, 992.97it/s]\n"
     ]
    },
    {
     "name": "stdout",
     "output_type": "stream",
     "text": [
      "> model summary: 2 modes, independence = True, vacuum state = False                                        \n"
     ]
    },
    {
     "name": "stderr",
     "output_type": "stream",
     "text": [
      "100%|██████████| 5/5 [00:00<00:00, 2025.45it/s]\n",
      "100%|██████████| 6/6 [00:00<00:00, 974.14it/s]\n"
     ]
    },
    {
     "name": "stdout",
     "output_type": "stream",
     "text": [
      "> model summary: 3 modes, independence = True, vacuum state = False                                        \n"
     ]
    },
    {
     "name": "stderr",
     "output_type": "stream",
     "text": [
      "100%|██████████| 42/42 [00:00<00:00, 1462.41it/s]\n",
      "100%|██████████| 15/15 [00:00<00:00, 699.19it/s]"
     ]
    },
    {
     "name": "stdout",
     "output_type": "stream",
     "text": [
      "found 11 weight for 3 modes"
     ]
    },
    {
     "name": "stderr",
     "output_type": "stream",
     "text": [
      "\n"
     ]
    },
    {
     "name": "stdout",
     "output_type": "stream",
     "text": [
      "> model summary: 4 modes, independence = True, vacuum state = False                                        \n"
     ]
    },
    {
     "name": "stderr",
     "output_type": "stream",
     "text": [
      "100%|██████████| 219/219 [00:00<00:00, 934.21it/s] \n",
      "100%|██████████| 28/28 [00:00<00:00, 531.43it/s]\n"
     ]
    },
    {
     "name": "stdout",
     "output_type": "stream",
     "text": [
      "> model summary: 5 modes, independence = True, vacuum state = False                                        \n"
     ]
    },
    {
     "name": "stderr",
     "output_type": "stream",
     "text": [
      "100%|██████████| 968/968 [00:01<00:00, 617.52it/s] \n",
      "100%|██████████| 45/45 [00:00<00:00, 423.41it/s]\n"
     ]
    },
    {
     "name": "stdout",
     "output_type": "stream",
     "text": [
      "found 22 weight for 5 modes"
     ]
    }
   ],
   "source": [
    "# adjust this number if it takes too long\n",
    "MAX_MODES = 8\n",
    "\n",
    "from fermihedral import DescentSolver\n",
    "from fermihedral.satutil import Kissat\n",
    "from fermihedral.majorana import get_bk_weight\n",
    "\n",
    "nmodes = []\n",
    "avg_fh_weight = []\n",
    "avg_bk_weight = []\n",
    "\n",
    "for i in range(1, MAX_MODES + 1):\n",
    "    solver = DescentSolver(i, independence=True, vacuum=False)\n",
    "    _, weight = solver.solve(progress=True, solver_init=Kissat, solver_args=[10 * 60])\n",
    "    nmodes.append(i)\n",
    "    avg_fh_weight.append(weight / (2 * i))\n",
    "    avg_bk_weight.append(get_bk_weight(i) / (2 * i))\n"
   ]
  },
  {
   "cell_type": "code",
   "execution_count": null,
   "metadata": {},
   "outputs": [],
   "source": [
    "# plot result\n",
    "\n",
    "def log_regress(x, y):\n",
    "    log_x = [log2(i) for i in x]\n",
    "    a, b, _, _, _ = linregress(log_x, y)\n",
    "    return a, b, [a * i + b for i in log_x]\n",
    "\n",
    "plt.clf()\n",
    "plt.figure(figsize=(7, 6))\n",
    "plt.subplots_adjust(left=0.12, right=0.98, top=0.95, bottom=0.15)\n",
    "plt.plot(nmodes[:MAX_MODES], avg_bk_weight[:MAX_MODES], label=\"Bravyi-Kitaev\", marker=\"o\", markerfacecolor='none', markeredgecolor='brown', color='brown', markersize=12, linewidth=2, markeredgewidth=2)\n",
    "plt.plot(nmodes[:MAX_MODES], avg_fh_weight[:MAX_MODES], label=\"Full SAT\", marker=\"x\", markerfacecolor='none', markeredgecolor='blue', color='blue', markersize=12, linewidth=2, markeredgewidth=2)\n",
    "bk_a, bk_b, bk_data = log_regress(nmodes[:MAX_MODES], avg_bk_weight[:MAX_MODES])\n",
    "plt.plot(nmodes[:MAX_MODES], bk_data, label=f\"{bk_a:.2f}log$_2$(N)+{bk_b:.2f}\", color=\"brown\", ls=\"--\", linewidth=1)\n",
    "fh_a, fh_b, fh_data = log_regress(nmodes[:MAX_MODES], avg_fh_weight[:MAX_MODES])\n",
    "plt.plot(nmodes[:MAX_MODES], fh_data, label=f\"{fh_a:.2f}log$_2$(N)+{fh_b:.2f}\", color=\"blue\", ls=\"--\", linewidth=1)\n",
    "plt.legend(loc='lower right', bbox_to_anchor=(1, 0), ncol=1, fontsize=21)\n",
    "plt.grid()\n",
    "plt.ylim(0.5, 3.7)\n",
    "plt.xlim(0.5, 8.5)\n",
    "plt.yticks([1, 2, 3])\n",
    "plt.xlabel(\"Modes/n\")\n",
    "plt.ylabel(\"Pauli Weight/n\")\n",
    "plt.show()"
   ]
  },
  {
   "cell_type": "markdown",
   "metadata": {},
   "source": [
    "#### Experiment: Average Pauli weight per-Majorana operator (larger scale)\n",
    "\n",
    "Note: this step may take extremely long time."
   ]
  },
  {
   "cell_type": "code",
   "execution_count": null,
   "metadata": {},
   "outputs": [],
   "source": [
    "MAX_MODES = 19\n",
    "\n",
    "from fermihedral import DescentSolver\n",
    "from fermihedral.satutil import Kissat\n",
    "from fermihedral.majorana import get_bk_weight\n",
    "\n",
    "nmodes = []\n",
    "fh_weight = []\n",
    "avg_fh_weight = []\n",
    "avg_bk_weight = []\n",
    "\n",
    "TIMEOUT = 72 * 60 * 60 # 3 Days, adjust this number based on your computer's performance\n",
    "\n",
    "for i in range(1, MAX_MODES + 1):\n",
    "    solver = DescentSolver(i, independence=False, vacuum=False)\n",
    "    _, weight = solver.solve(progress=True, solver_init=Kissat, solver_args=[TIMEOUT])\n",
    "    nmodes.append(i)\n",
    "    fh_weight.append(weight)\n",
    "    avg_fh_weight.append(weight / (2 * i))\n",
    "    avg_bk_weight.append(get_bk_weight(i) / (2 * i))"
   ]
  },
  {
   "cell_type": "code",
   "execution_count": null,
   "metadata": {},
   "outputs": [],
   "source": [
    "# plot\n",
    "\n",
    "exp_n_modes = nmodes[8:]\n",
    "exp_avg_bk_weight = avg_bk_weight[8:]\n",
    "exp_avg_fermihedral_weight = avg_fh_weight[8:]\n",
    "\n",
    "plt.clf()\n",
    "plt.figure(figsize=(14, 6))\n",
    "plt.subplots_adjust(left=0.07, right=0.98, top=0.95, bottom=0.15, wspace=0.27)\n",
    "\n",
    "plt.subplot(1, 2, 1)\n",
    "plt.plot(exp_n_modes, exp_avg_bk_weight, label=\"Bravyi-Kitaev\",\n",
    "         marker=\"o\", markerfacecolor='none', markeredgecolor='brown', color='brown', markersize=12, markeredgewidth=2, linewidth=2)\n",
    "plt.plot(exp_n_modes, exp_avg_fermihedral_weight,\n",
    "         label=\"SAT w/o Alg.\", marker=\"x\", markerfacecolor='none', markeredgecolor='blue', color='blue', markersize=12, markeredgewidth=2, linewidth=2)\n",
    "bk_a, bk_b, bk_data = log_regress(exp_n_modes, exp_avg_bk_weight)\n",
    "plt.plot(exp_n_modes, bk_data, color=\"brown\", ls=\"--\", linewidth=1)\n",
    "fh_a, fh_b, fh_data = log_regress(exp_n_modes, exp_avg_fermihedral_weight)\n",
    "plt.plot(exp_n_modes, fh_data, color=\"blue\", ls=\"--\", linewidth=1)\n",
    "plt.legend(loc=\"upper left\", fontsize=23)\n",
    "plt.grid()\n",
    "plt.xlabel(\"Modes/n\")\n",
    "plt.ylabel(\"Pauli Weight/n\")\n",
    "plt.yticks([3.0, 4.0, 5.0])\n",
    "\n",
    "\n",
    "plt.subplot(1, 2, 2)\n",
    "improvement = [(exp_avg_bk_weight[i] - exp_avg_fermihedral_weight[i])\n",
    "               * 100 / exp_avg_bk_weight[i] for i in range(len(exp_n_modes))]\n",
    "avg_improvement = sum(improvement) / len(improvement)\n",
    "plt.bar(exp_n_modes, improvement, color=\"white\",\n",
    "        edgecolor=\"black\", linewidth=1.5)\n",
    "plt.plot([8] + exp_n_modes + [20], [avg_improvement for _ in range(\n",
    "    len(exp_n_modes) + 2)], color='brown', linewidth=3)\n",
    "plt.grid()\n",
    "plt.xlabel(\"Modes/n\")\n",
    "plt.ylabel(\"Improvement/%\")\n",
    "plt.yticks([5, 15, 25])\n",
    "plt.show()"
   ]
  }
 ],
 "metadata": {
  "kernelspec": {
   "display_name": "venv",
   "language": "python",
   "name": "python3"
  },
  "language_info": {
   "codemirror_mode": {
    "name": "ipython",
    "version": 3
   },
   "file_extension": ".py",
   "mimetype": "text/x-python",
   "name": "python",
   "nbconvert_exporter": "python",
   "pygments_lexer": "ipython3",
   "version": "3.10.12"
  }
 },
 "nbformat": 4,
 "nbformat_minor": 2
}
