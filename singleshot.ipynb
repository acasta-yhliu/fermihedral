{
 "cells": [
  {
   "cell_type": "markdown",
   "metadata": {},
   "source": [
    "## Fermihedral: On the Optimal Compilation for Fermion-to-Qubit Encoding\n",
    "\n",
    "Please make sure your are using the virtual environment, and `kissat` is built. If not, run `python3 prepare.py` to prepare the environment and packages."
   ]
  },
  {
   "cell_type": "code",
   "execution_count": 2,
   "metadata": {},
   "outputs": [],
   "source": [
    "%matplotlib inline\n",
    "\n",
    "from math import log2\n",
    "import matplotlib.pyplot as plt\n",
    "from scipy.stats import linregress\n",
    "import numpy as np\n",
    "\n",
    "plt.style.use('classic')\n",
    "plt.rc(\"font\", size=28, family=\"serif\")"
   ]
  },
  {
   "cell_type": "markdown",
   "metadata": {},
   "source": [
    "#### Experiment: Average Pauli weight per-Majorana operator (small scale)"
   ]
  },
  {
   "cell_type": "code",
   "execution_count": null,
   "metadata": {},
   "outputs": [],
   "source": [
    "from fermihedral import DescentSolver\n",
    "from fermihedral.satutil import Kissat\n",
    "from fermihedral.majorana import get_bk_weight\n",
    "\n",
    "nmodes = []\n",
    "avg_fh_weight = []\n",
    "avg_bk_weight = []\n",
    "\n",
    "for i in range(1, 9):\n",
    "    solver = DescentSolver(i, independence=True, vacuum=False)\n",
    "    _, weight = solver.solve(progress=True, solver_init=Kissat, solver_args=[10 * 60])\n",
    "    nmodes.append(i)\n",
    "    avg_fh_weight.append(weight / (2 * i))\n",
    "    avg_bk_weight.append(get_bk_weight(i) / (2 * i))\n"
   ]
  },
  {
   "cell_type": "code",
   "execution_count": null,
   "metadata": {},
   "outputs": [],
   "source": [
    "# plot result\n",
    "\n",
    "def log_regress(x, y):\n",
    "    log_x = [log2(i) for i in x]\n",
    "    a, b, _, _, _ = linregress(log_x, y)\n",
    "    return a, b, [a * i + b for i in log_x]\n",
    "\n",
    "plt.clf()\n",
    "plt.figure(figsize=(7, 6))\n",
    "plt.subplots_adjust(left=0.12, right=0.98, top=0.95, bottom=0.15)\n",
    "plt.plot(nmodes[:8], avg_bk_weight[:8], label=\"Bravyi-Kitaev\", marker=\"o\", markerfacecolor='none', markeredgecolor='brown', color='brown', markersize=12, linewidth=2, markeredgewidth=2)\n",
    "plt.plot(nmodes[:8], avg_fh_weight[:8], label=\"Full SAT\", marker=\"x\", markerfacecolor='none', markeredgecolor='blue', color='blue', markersize=12, linewidth=2, markeredgewidth=2)\n",
    "bk_a, bk_b, bk_data = log_regress(nmodes[:8], avg_bk_weight[:8])\n",
    "plt.plot(nmodes[:8], bk_data, label=f\"{bk_a:.2f}log$_2$(N)+{bk_b:.2f}\", color=\"brown\", ls=\"--\", linewidth=1)\n",
    "fh_a, fh_b, fh_data = log_regress(nmodes[:8], avg_fh_weight[:8])\n",
    "plt.plot(nmodes[:8], fh_data, label=f\"{fh_a:.2f}log$_2$(N)+{fh_b:.2f}\", color=\"blue\", ls=\"--\", linewidth=1)\n",
    "plt.legend(loc='lower right', bbox_to_anchor=(1, 0), ncol=1, fontsize=21)\n",
    "plt.grid()\n",
    "plt.ylim(0.5, 3.7)\n",
    "plt.xlim(0.5, 8.5)\n",
    "plt.yticks([1, 2, 3])\n",
    "plt.xlabel(\"Modes/n\")\n",
    "plt.ylabel(\"Pauli Weight/n\")\n",
    "plt.show()"
   ]
  },
  {
   "cell_type": "markdown",
   "metadata": {},
   "source": [
    "#### Experiment: Average Pauli weight per-Majorana operator (larger scale)\n",
    "\n",
    "Note: this step may take extremely long time. If you want to go for the noisy simulation, then you can bypass this step and the following experiments."
   ]
  },
  {
   "cell_type": "code",
   "execution_count": null,
   "metadata": {},
   "outputs": [],
   "source": [
    "from fermihedral import DescentSolver\n",
    "from fermihedral.satutil import Kissat\n",
    "from fermihedral.majorana import get_bk_weight\n",
    "\n",
    "nmodes = []\n",
    "fh_weight = []\n",
    "avg_fh_weight = []\n",
    "avg_bk_weight = []\n",
    "\n",
    "TIMEOUT = 72 * 60 * 60 # 3 Days, adjust this number based on your computer's performance\n",
    "\n",
    "for i in range(1, 9):\n",
    "    solver = DescentSolver(i, independence=False, vacuum=False)\n",
    "    _, weight = solver.solve(progress=True, solver_init=Kissat, solver_args=[TIMEOUT])\n",
    "    nmodes.append(i)\n",
    "    fh_weight.append(weight)\n",
    "    avg_fh_weight.append(weight / (2 * i))\n",
    "    avg_bk_weight.append(get_bk_weight(i) / (2 * i))"
   ]
  },
  {
   "cell_type": "code",
   "execution_count": null,
   "metadata": {},
   "outputs": [],
   "source": [
    "# plot\n",
    "\n",
    "exp_n_modes = nmodes[8:]\n",
    "exp_avg_bk_weight = avg_bk_weight[8:]\n",
    "exp_avg_fermihedral_weight = avg_fh_weight[8:]\n",
    "\n",
    "plt.clf()\n",
    "plt.figure(figsize=(14, 6))\n",
    "plt.subplots_adjust(left=0.07, right=0.98, top=0.95, bottom=0.15, wspace=0.27)\n",
    "\n",
    "plt.subplot(1, 2, 1)\n",
    "plt.plot(exp_n_modes, exp_avg_bk_weight, label=\"Bravyi-Kitaev\",\n",
    "         marker=\"o\", markerfacecolor='none', markeredgecolor='brown', color='brown', markersize=12, markeredgewidth=2, linewidth=2)\n",
    "plt.plot(exp_n_modes, exp_avg_fermihedral_weight,\n",
    "         label=\"SAT w/o Alg.\", marker=\"x\", markerfacecolor='none', markeredgecolor='blue', color='blue', markersize=12, markeredgewidth=2, linewidth=2)\n",
    "bk_a, bk_b, bk_data = log_regress(exp_n_modes, exp_avg_bk_weight)\n",
    "plt.plot(exp_n_modes, bk_data, color=\"brown\", ls=\"--\", linewidth=1)\n",
    "fh_a, fh_b, fh_data = log_regress(exp_n_modes, exp_avg_fermihedral_weight)\n",
    "plt.plot(exp_n_modes, fh_data, color=\"blue\", ls=\"--\", linewidth=1)\n",
    "plt.legend(loc=\"upper left\", fontsize=23)\n",
    "plt.grid()\n",
    "plt.xlabel(\"Modes/n\")\n",
    "plt.ylabel(\"Pauli Weight/n\")\n",
    "plt.yticks([3.0, 4.0, 5.0])\n",
    "\n",
    "\n",
    "plt.subplot(1, 2, 2)\n",
    "improvement = [(exp_avg_bk_weight[i] - exp_avg_fermihedral_weight[i])\n",
    "               * 100 / exp_avg_bk_weight[i] for i in range(len(exp_n_modes))]\n",
    "plt.bar(exp_n_modes, improvement, color=\"white\",\n",
    "        edgecolor=\"black\", linewidth=1.5)\n",
    "plt.plot([8] + exp_n_modes + [20], [avg_improvement for _ in range(\n",
    "    len(exp_n_modes) + 2)], color='brown', linewidth=3)\n",
    "plt.grid()\n",
    "plt.xlabel(\"Modes/n\")\n",
    "plt.ylabel(\"Improvement/%\")\n",
    "plt.yticks([5, 15, 25])\n",
    "plt.show()"
   ]
  },
  {
   "cell_type": "markdown",
   "metadata": {},
   "source": [
    "#### Experiment: Probability of $n$ $A_k$'s holds simultaneously\n",
    "\n",
    "Note: this step dependes on the previous step. Since the previous takes really long, you could skip this if you only want the noisy simulation part."
   ]
  },
  {
   "cell_type": "code",
   "execution_count": 3,
   "metadata": {},
   "outputs": [],
   "source": [
    "from fermihedral import MajoranaModel\n",
    "from fermihedral.pauli import check_algebraic_independent\n",
    "from fermihedral.satutil import Kissat\n",
    "\n"
   ]
  },
  {
   "cell_type": "code",
   "execution_count": null,
   "metadata": {},
   "outputs": [],
   "source": []
  }
 ],
 "metadata": {
  "kernelspec": {
   "display_name": "venv",
   "language": "python",
   "name": "python3"
  },
  "language_info": {
   "codemirror_mode": {
    "name": "ipython",
    "version": 3
   },
   "file_extension": ".py",
   "mimetype": "text/x-python",
   "name": "python",
   "nbconvert_exporter": "python",
   "pygments_lexer": "ipython3",
   "version": "3.10.12"
  }
 },
 "nbformat": 4,
 "nbformat_minor": 2
}
